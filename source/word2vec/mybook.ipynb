{
 "cells": [
  {
   "cell_type": "code",
   "execution_count": 78,
   "metadata": {},
   "outputs": [],
   "source": [
    "import numpy as np\n",
    "import pickle\n",
    "import scipy.spatial as spatial"
   ]
  },
  {
   "cell_type": "code",
   "execution_count": 2,
   "metadata": {
    "scrolled": true
   },
   "outputs": [
    {
     "name": "stdout",
     "output_type": "stream",
     "text": [
      "38522 -0.32053 b'\\xc2\\x85 -0.32053 -0.73053 -0.15227 0.75504 0.11011 0.14091 0.047278 -1.0087 0.13282 -0.10939 -0.010336 0.32189 -1.4589 -0.83385 -0.52429 0.55353 0.054966 0.02489 0.066947 0.39403 -0.2942 -1.2322 -0.2594 -0.72149 0.3671 0.24201 0.023268 0.14087 0.60309 0.37282 0.40474 0.16387 1.5523 -0.28782 -0.26105 -0.83564 -0.031021 0.26182 -0.093516 -0.36343 -0.10013 -0.113 1.3461 -0.7571 -0.51527 -0.0099121 -0.34748 0.2534 0.43839 0.30234 0.0080009 0.51505 0.25082 -0.53778 0.20495 0.27272 0.13311 0.98437 -0.24143 0.041526 0.21953 -0.20118 0.068255 1.2481 -0.28648 -0.058264 0.18604 0.45244 0.36555 0.35107 0.78051 -0.20271 0.99956 -0.4688 -0.49431 -0.14843 0.0022548 -0.10625 -0.21541 -0.24243 -0.68123 -0.17896 -0.86271 0.74024 0.73827 0.4905 -0.71627 -0.49518 0.050481 -0.21521 -1.21 0.38652 -0.22538 0.52208 0.62189 0.44918 -0.229 0.045921 0.73164 -0.23074\\n'\n"
     ]
    }
   ],
   "source": [
    "word2idx = {}\n",
    "idx = 0\n",
    "vectors = []\n",
    "with open('../../data/glove.twitter.27B.100d.txt', 'rb') as f:\n",
    "    for l in f:\n",
    "        line = l.decode().split()\n",
    "        if len(line) != 101:\n",
    "            print(idx, line[0], l)\n",
    "            continue\n",
    "        \n",
    "        word = line[0]\n",
    "        word2idx[word] = idx\n",
    "        idx += 1\n",
    "        vect = np.array(line[1:]).astype(np.float32)\n",
    "        vectors.append(vect)\n",
    "        \n",
    "vectors = np.array(vectors)"
   ]
  },
  {
   "cell_type": "code",
   "execution_count": 4,
   "metadata": {},
   "outputs": [],
   "source": [
    "np.save('../../data/glove.twitter.100d', vectors)\n",
    "with open('../../data/glove.twitter.100d.pkl', 'wb') as f:\n",
    "    pickle.dump(word2idx, f)"
   ]
  },
  {
   "cell_type": "code",
   "execution_count": 24,
   "metadata": {},
   "outputs": [],
   "source": [
    "idx2word = {}\n",
    "for key, value in word2idx.items():\n",
    "    idx2word[value] = key"
   ]
  },
  {
   "cell_type": "code",
   "execution_count": 166,
   "metadata": {},
   "outputs": [],
   "source": [
    "def w2v(word):\n",
    "    idx = word2idx[word]\n",
    "    vec = vectors[idx]\n",
    "    return vec\n",
    "\n",
    "def nearest_neighbor(vec, n=10):\n",
    "#     sim = vectors.dot(vec)\n",
    "    sim = spatial.distance.cdist([vec], vectors, 'cosine').flatten()\n",
    "    sorted_idx = np.argsort(sim)\n",
    "    return list([idx2word[idx] for idx in sorted_idx[:n]])"
   ]
  },
  {
   "cell_type": "code",
   "execution_count": 209,
   "metadata": {},
   "outputs": [
    {
     "data": {
      "text/plain": [
       "['animal',\n",
       " 'wing',\n",
       " 'dog',\n",
       " 'cat',\n",
       " 'horse',\n",
       " 'fish',\n",
       " 'dogs',\n",
       " 'meat',\n",
       " 'cross',\n",
       " 'american',\n",
       " 'animals',\n",
       " 'killer',\n",
       " 'bear',\n",
       " 'tiger',\n",
       " 'or',\n",
       " 'monkey',\n",
       " 'chicken',\n",
       " 'human',\n",
       " 'turtle',\n",
       " 'pet']"
      ]
     },
     "execution_count": 209,
     "metadata": {},
     "output_type": "execute_result"
    }
   ],
   "source": [
    "vec = w2v('wing') + w2v('animal')\n",
    "nearest_neighbor(vec, n=20)"
   ]
  },
  {
   "cell_type": "code",
   "execution_count": 217,
   "metadata": {},
   "outputs": [
    {
     "data": {
      "text/plain": [
       "['noodle',\n",
       " 'soup',\n",
       " 'noodles',\n",
       " 'ramen',\n",
       " 'chicken',\n",
       " 'veggie',\n",
       " 'porridge',\n",
       " 'fried',\n",
       " 'prawn',\n",
       " 'tofu']"
      ]
     },
     "execution_count": 217,
     "metadata": {},
     "output_type": "execute_result"
    }
   ],
   "source": [
    "nearest_neighbor(w2v('noodle'))"
   ]
  }
 ],
 "metadata": {
  "kernelspec": {
   "display_name": "Python 3",
   "language": "python",
   "name": "python3"
  },
  "language_info": {
   "codemirror_mode": {
    "name": "ipython",
    "version": 3
   },
   "file_extension": ".py",
   "mimetype": "text/x-python",
   "name": "python",
   "nbconvert_exporter": "python",
   "pygments_lexer": "ipython3",
   "version": "3.6.6"
  }
 },
 "nbformat": 4,
 "nbformat_minor": 2
}
