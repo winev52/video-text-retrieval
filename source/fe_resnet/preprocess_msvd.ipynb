{
 "cells": [
  {
   "cell_type": "code",
   "execution_count": 1,
   "metadata": {
    "collapsed": true
   },
   "outputs": [],
   "source": [
    "import numpy as np\n",
    "import pandas as pd\n",
    "import pickle"
   ]
  },
  {
   "cell_type": "code",
   "execution_count": 2,
   "metadata": {
    "collapsed": true
   },
   "outputs": [],
   "source": [
    "DATA_DIR = '../../data'\n",
    "VIDEO_CAPS = DATA_DIR + '/msvd_video_caps.pkl'\n",
    "VOCABULARY = DATA_DIR + '/vocab.pkl'\n",
    "\n",
    "YOUTUBE_MAPPING = DATA_DIR + '/youtube_video_to_id_mapping.txt'\n",
    "TRAIN_CAPS_PATH = DATA_DIR + '/sents_train_lc_nopunc.txt'\n",
    "TEST_CAPS_PATH = DATA_DIR + '/sents_test_lc_nopunc.txt'\n",
    "VAL_CAPS_PATH = DATA_DIR + '/sents_val_lc_nopunc.txt'"
   ]
  },
  {
   "cell_type": "code",
   "execution_count": 3,
   "metadata": {
    "collapsed": true
   },
   "outputs": [],
   "source": [
    "class Vocabulary():\n",
    "    def __init__(self):\n",
    "        pass"
   ]
  },
  {
   "cell_type": "code",
   "execution_count": 4,
   "metadata": {
    "collapsed": true
   },
   "outputs": [],
   "source": [
    "# load vocabulary used by the model\n",
    "vocab = pickle.load(open(VOCABULARY, 'rb'))"
   ]
  },
  {
   "cell_type": "code",
   "execution_count": 5,
   "metadata": {
    "collapsed": true
   },
   "outputs": [],
   "source": [
    "mapping = pd.read_csv(YOUTUBE_MAPPING, sep=' ',header=None, names=[\"yt_id\", \"vid_id\"])\n",
    "mapping = mapping.set_index('vid_id')\n",
    "mapping_dict = mapping.to_dict().get('yt_id')"
   ]
  },
  {
   "cell_type": "code",
   "execution_count": 11,
   "metadata": {
    "collapsed": true
   },
   "outputs": [],
   "source": [
    "def word2id(x):\n",
    "    if vocab.word2idx.get(x) is None:\n",
    "        return vocab.word2idx.get('<unk>')\n",
    "    else: return vocab.word2idx.get(x)\n",
    "\n",
    "def sent2ids(x):\n",
    "    tmp = [vocab.word2idx.get('<start>')] + [word2id(y) for y in x.split(' ')] + [vocab.word2idx.get('<end>')]\n",
    "    return np.array(tmp)\n",
    "\n",
    "# load files\n",
    "train_caps = pd.read_csv(TRAIN_CAPS_PATH, sep='\\t',header=None, names=[\"vid_id\", \"cap\"])\n",
    "test_caps = pd.read_csv(TEST_CAPS_PATH, sep='\\t',header=None, names=[\"vid_id\", \"cap\"])\n",
    "val_caps = pd.read_csv(VAL_CAPS_PATH, sep='\\t',header=None, names=[\"vid_id\", \"cap\"])\n",
    "\n",
    "# map video id to youtube id\n",
    "train_caps['vid_id'] = train_caps['vid_id'].transform(lambda x: mapping_dict.get(x))\n",
    "test_caps['vid_id'] = test_caps['vid_id'].transform(lambda x: mapping_dict.get(x))\n",
    "val_caps['vid_id'] = val_caps['vid_id'].transform(lambda x: mapping_dict.get(x))\n",
    "\n",
    "# transform captions\n",
    "train_caps['cap'] = train_caps['cap'].transform(sent2ids)\n",
    "test_caps['cap'] = test_caps['cap'].transform(sent2ids)\n",
    "val_caps['cap'] = val_caps['cap'].transform(sent2ids)\n",
    "\n",
    "# select 5 sentences\n",
    "train_caps5 = train_caps.groupby('vid_id').head(20)\n",
    "test_caps5 = test_caps.groupby('vid_id').head(20)\n",
    "val_caps5 = val_caps.groupby('vid_id').head(20)"
   ]
  },
  {
   "cell_type": "code",
   "execution_count": 12,
   "metadata": {
    "collapsed": true
   },
   "outputs": [],
   "source": [
    "np.save(DATA_DIR + '/val_new20.npy', val_caps5.values)\n",
    "np.save(DATA_DIR + '/test_new20.npy', test_caps5.values)\n",
    "np.save(DATA_DIR + '/train_new20.npy', train_caps5.values)"
   ]
  },
  {
   "cell_type": "code",
   "execution_count": 24,
   "metadata": {},
   "outputs": [
    {
     "data": {
      "text/html": [
       "<div>\n",
       "<style>\n",
       "    .dataframe thead tr:only-child th {\n",
       "        text-align: right;\n",
       "    }\n",
       "\n",
       "    .dataframe thead th {\n",
       "        text-align: left;\n",
       "    }\n",
       "\n",
       "    .dataframe tbody tr th {\n",
       "        vertical-align: top;\n",
       "    }\n",
       "</style>\n",
       "<table border=\"1\" class=\"dataframe\">\n",
       "  <thead>\n",
       "    <tr style=\"text-align: right;\">\n",
       "      <th></th>\n",
       "      <th>vid_id</th>\n",
       "      <th>cap</th>\n",
       "    </tr>\n",
       "  </thead>\n",
       "  <tbody>\n",
       "    <tr>\n",
       "      <th>12828</th>\n",
       "      <td>7bcV-TL9mho_0_7</td>\n",
       "      <td>[1, 1541, 7262, 7578, 9903, 6825, 2]</td>\n",
       "    </tr>\n",
       "    <tr>\n",
       "      <th>12808</th>\n",
       "      <td>7bcV-TL9mho_0_7</td>\n",
       "      <td>[1, 9903, 6825, 4537, 1788, 4542, 10071, 5552,...</td>\n",
       "    </tr>\n",
       "    <tr>\n",
       "      <th>12813</th>\n",
       "      <td>7bcV-TL9mho_0_7</td>\n",
       "      <td>[1, 9903, 10144, 5552, 7262, 1065, 7986, 9903,...</td>\n",
       "    </tr>\n",
       "    <tr>\n",
       "      <th>12807</th>\n",
       "      <td>7bcV-TL9mho_0_7</td>\n",
       "      <td>[1, 9903, 10144, 5552, 7262, 10100, 9048, 6244...</td>\n",
       "    </tr>\n",
       "    <tr>\n",
       "      <th>12811</th>\n",
       "      <td>7bcV-TL9mho_0_7</td>\n",
       "      <td>[1, 7262, 10100, 5111, 4145, 9903, 6825, 2]</td>\n",
       "    </tr>\n",
       "  </tbody>\n",
       "</table>\n",
       "</div>"
      ],
      "text/plain": [
       "                vid_id                                                cap\n",
       "12828  7bcV-TL9mho_0_7               [1, 1541, 7262, 7578, 9903, 6825, 2]\n",
       "12808  7bcV-TL9mho_0_7  [1, 9903, 6825, 4537, 1788, 4542, 10071, 5552,...\n",
       "12813  7bcV-TL9mho_0_7  [1, 9903, 10144, 5552, 7262, 1065, 7986, 9903,...\n",
       "12807  7bcV-TL9mho_0_7  [1, 9903, 10144, 5552, 7262, 10100, 9048, 6244...\n",
       "12811  7bcV-TL9mho_0_7        [1, 7262, 10100, 5111, 4145, 9903, 6825, 2]"
      ]
     },
     "execution_count": 24,
     "metadata": {},
     "output_type": "execute_result"
    }
   ],
   "source": [
    "df1 = train_caps.sample(frac=1).groupby('vid_id').head(5)\n",
    "df1[df1['vid_id'] == '7bcV-TL9mho_0_7']\n",
    "#train_caps[train_caps['vid_id'] == '-4wsuPCjDBc_5_15']"
   ]
  }
 ],
 "metadata": {
  "kernelspec": {
   "display_name": "Python 3",
   "language": "python",
   "name": "python3"
  },
  "language_info": {
   "codemirror_mode": {
    "name": "ipython",
    "version": 3
   },
   "file_extension": ".py",
   "mimetype": "text/x-python",
   "name": "python",
   "nbconvert_exporter": "python",
   "pygments_lexer": "ipython3",
   "version": "3.6.3"
  }
 },
 "nbformat": 4,
 "nbformat_minor": 2
}
