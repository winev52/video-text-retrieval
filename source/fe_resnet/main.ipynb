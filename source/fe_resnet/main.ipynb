{
 "cells": [
  {
   "cell_type": "code",
   "execution_count": 1,
   "metadata": {},
   "outputs": [],
   "source": [
    "import os\n",
    "import json\n",
    "import numpy as np\n",
    "import pandas as pd"
   ]
  },
  {
   "cell_type": "markdown",
   "metadata": {},
   "source": [
    "this project uses the features extracted by Xirong Li and available at [GitHub][github]\n",
    "\n",
    "[github]: https://github.com/li-xirong/avs"
   ]
  },
  {
   "cell_type": "code",
   "execution_count": 10,
   "metadata": {},
   "outputs": [],
   "source": [
    "# define the downloaded directory of MSVD\n",
    "MSVD_DIR = 'E:\\msvd'\n",
    "BIN_FILE = os.path.join(MSVD_DIR, 'feature.bin')\n",
    "ID_FILE = os.path.join(MSVD_DIR, 'id.txt')\n",
    "SHAPE = [41157, 2048]\n",
    "\n",
    "# the output dir\n",
    "OUT_DIR = '../../data/resnet_mid_1'"
   ]
  },
  {
   "cell_type": "code",
   "execution_count": 11,
   "metadata": {},
   "outputs": [],
   "source": [
    "data = np.fromfile(BIN_FILE, dtype=np.float32)\n",
    "data = data.reshape(SHAPE)"
   ]
  },
  {
   "cell_type": "code",
   "execution_count": 12,
   "metadata": {},
   "outputs": [],
   "source": [
    "with open(ID_FILE, 'rt') as fid:\n",
    "    arr_id_with_frame = np.array(fid.read().split())"
   ]
  },
  {
   "cell_type": "code",
   "execution_count": 13,
   "metadata": {},
   "outputs": [],
   "source": [
    "arr_id = [x[:x.rindex('_')] for x in arr_id_with_frame]\n",
    "arr_frame = [int(x[x.rindex('_') + 1:]) for x in arr_id_with_frame]\n",
    "pd_id_frame = pd.DataFrame({'id': arr_id, 'frame': arr_frame})\n",
    "pd_id_frame.sort_values(['id', 'frame'], inplace=True)"
   ]
  },
  {
   "cell_type": "code",
   "execution_count": null,
   "metadata": {},
   "outputs": [],
   "source": [
    "selected_index = [group.index[group.shape[0] // 2] for _, group in pd_id_frame.groupby('id')]"
   ]
  },
  {
   "cell_type": "code",
   "execution_count": null,
   "metadata": {},
   "outputs": [],
   "source": [
    "for index in selected_index:\n",
    "    mean_data = data[index]\n",
    "    np.save(os.path.join(OUT_DIR, arr_id[index] + '.npy'), data[index])"
   ]
  },
  {
   "cell_type": "markdown",
   "metadata": {},
   "source": [
    "mean of 2 median frames"
   ]
  },
  {
   "cell_type": "code",
   "execution_count": null,
   "metadata": {},
   "outputs": [],
   "source": [
    "selected_index1 = [group.index[group.shape[0] // 2] for _, group in pd_id_frame.groupby('id')]\n",
    "selected_index2 = [group.index[(group.shape[0] // 2) - 1] for _, group in pd_id_frame.groupby('id')]\n",
    "selected_index = list(zip(selected_index1, selected_index2))"
   ]
  },
  {
   "cell_type": "code",
   "execution_count": null,
   "metadata": {},
   "outputs": [],
   "source": [
    "# the output dir\n",
    "OUT_DIR = '../../data/resnet_mid_2'\n",
    "for index in selected_index:\n",
    "    mean_data = np.mean(data[list(index)], axis=0)\n",
    "    np.save(os.path.join(OUT_DIR, arr_id[index[0]] + '.npy'), mean_data)"
   ]
  },
  {
   "cell_type": "markdown",
   "metadata": {},
   "source": [
    "ResNet by Danny"
   ]
  },
  {
   "cell_type": "code",
   "execution_count": 22,
   "metadata": {},
   "outputs": [],
   "source": [
    "JSON_FILE = r'E:\\feats_vecs_resnet152.json'\n",
    "# the output dir\n",
    "OUT_DIR = '../../data/resnet_mean'"
   ]
  },
  {
   "cell_type": "code",
   "execution_count": 3,
   "metadata": {},
   "outputs": [],
   "source": [
    "a_id = []\n",
    "a_frame = []\n",
    "a_feature = []\n",
    "with open(JSON_FILE, 'rt') as f:\n",
    "    for line in f:\n",
    "        d = json.loads(line)\n",
    "        last_ = d[0].rindex('_')\n",
    "        a_id.append(d[0][5:last_])\n",
    "        a_frame.append(int(d[0][last_ + 1:-4]))\n",
    "        a_feature.append(d[1])"
   ]
  },
  {
   "cell_type": "code",
   "execution_count": 18,
   "metadata": {},
   "outputs": [],
   "source": [
    "pd_if = pd.DataFrame({'id': a_id, 'frame': a_frame})\n",
    "pd_if.sort_values(['id', 'frame'], inplace=True)\n",
    "np_feature = np.array(a_feature, dtype=np.float32)"
   ]
  },
  {
   "cell_type": "code",
   "execution_count": 23,
   "metadata": {},
   "outputs": [],
   "source": [
    "for vid, group in pd_if.groupby('id'):\n",
    "    # mean of all frames\n",
    "    mean_feature = np.mean(np_feature[group.index], axis=0)\n",
    "    np.save(os.path.join(OUT_DIR, vid + '.npy'), mean_feature)"
   ]
  }
 ],
 "metadata": {
  "kernelspec": {
   "display_name": "Python 3",
   "language": "python",
   "name": "python3"
  },
  "language_info": {
   "codemirror_mode": {
    "name": "ipython",
    "version": 3
   },
   "file_extension": ".py",
   "mimetype": "text/x-python",
   "name": "python",
   "nbconvert_exporter": "python",
   "pygments_lexer": "ipython3",
   "version": "3.6.6"
  }
 },
 "nbformat": 4,
 "nbformat_minor": 2
}
