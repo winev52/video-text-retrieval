{
 "cells": [
  {
   "cell_type": "code",
   "execution_count": 26,
   "metadata": {},
   "outputs": [],
   "source": [
    "import pandas as pd\n",
    "import pickle"
   ]
  },
  {
   "cell_type": "code",
   "execution_count": 2,
   "metadata": {},
   "outputs": [],
   "source": [
    "DATA_DIR = '../../data'\n",
    "YOUTUBE_MAPPING = DATA_DIR + '/youtube_video_to_id_mapping.txt'\n",
    "TRAIN_CAPS_PATH = DATA_DIR + '/sents_train_lc_nopunc.txt'\n",
    "TEST_CAPS_PATH = DATA_DIR + '/sents_test_lc_nopunc.txt'\n",
    "VAL_CAPS_PATH = DATA_DIR + '/sents_val_lc_nopunc.txt'"
   ]
  },
  {
   "cell_type": "code",
   "execution_count": 17,
   "metadata": {},
   "outputs": [],
   "source": [
    "mapping = pd.read_csv(YOUTUBE_MAPPING, sep=' ',header=None, names=[\"yt_id\", \"vid_id\"])\n",
    "mapping = mapping.set_index('vid_id')\n",
    "mapping_dict = mapping.to_dict().get('yt_id')"
   ]
  },
  {
   "cell_type": "code",
   "execution_count": 28,
   "metadata": {},
   "outputs": [],
   "source": [
    "def transform_to_global_id(in_file, out_file):\n",
    "    # load files\n",
    "    caps = pd.read_csv(in_file, sep='\\t',header=None, names=[\"vid_id\", \"cap\"]).drop_duplicates()\n",
    "    \n",
    "    # map video id to youtube id\n",
    "    caps['vid_id'] = caps['vid_id'].transform(lambda x: mapping_dict.get(x))\n",
    "    \n",
    "    # get numpy array\n",
    "    np_caps = caps.values\n",
    "    \n",
    "    # save to pickle file\n",
    "    with open(out_file, 'wb') as f:\n",
    "        pickle.dump(np_caps, f)"
   ]
  },
  {
   "cell_type": "code",
   "execution_count": 31,
   "metadata": {},
   "outputs": [],
   "source": [
    "transform_to_global_id(TRAIN_CAPS_PATH, DATA_DIR + '/train_jmet.pkl')\n",
    "transform_to_global_id(VAL_CAPS_PATH, DATA_DIR + '/val_jmet.pkl')\n",
    "transform_to_global_id(TEST_CAPS_PATH, DATA_DIR + '/test_jmet.pkl')"
   ]
  }
 ],
 "metadata": {
  "kernelspec": {
   "display_name": "Python 3",
   "language": "python",
   "name": "python3"
  },
  "language_info": {
   "codemirror_mode": {
    "name": "ipython",
    "version": 3
   },
   "file_extension": ".py",
   "mimetype": "text/x-python",
   "name": "python",
   "nbconvert_exporter": "python",
   "pygments_lexer": "ipython3",
   "version": "3.6.6"
  }
 },
 "nbformat": 4,
 "nbformat_minor": 2
}
