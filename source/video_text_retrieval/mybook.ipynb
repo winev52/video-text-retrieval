{
 "cells": [
  {
   "cell_type": "code",
   "execution_count": 31,
   "metadata": {},
   "outputs": [],
   "source": [
    "import numpy as np\n",
    "import os.path as path\n",
    "import pickle\n",
    "import nltk\n",
    "import torch\n",
    "from model import VSE"
   ]
  },
  {
   "cell_type": "code",
   "execution_count": 85,
   "metadata": {},
   "outputs": [],
   "source": [
    "with open('./data/msr-vtt/captions_pkl/msr-vtt_captions_val.pkl', 'rb') as f:\n",
    "    captions, lengths, video_ids = pickle.load(f)"
   ]
  },
  {
   "cell_type": "code",
   "execution_count": 10,
   "metadata": {},
   "outputs": [],
   "source": [
    "class Vocabulary:\n",
    "    def __len__(self):\n",
    "        return len(self.word2idx)"
   ]
  },
  {
   "cell_type": "code",
   "execution_count": 42,
   "metadata": {},
   "outputs": [],
   "source": [
    "with open('./vocab/vocab.pkl', 'rb') as f:\n",
    "    vocab = pickle.load(f)"
   ]
  },
  {
   "cell_type": "code",
   "execution_count": 111,
   "metadata": {},
   "outputs": [],
   "source": [
    "with open('../../data/msvd_video_caps.pkl', 'rb') as f:\n",
    "    data = pickle.load(f)"
   ]
  },
  {
   "cell_type": "code",
   "execution_count": 112,
   "metadata": {},
   "outputs": [
    {
     "data": {
      "text/plain": [
       "array([['mv89psg6zh4_33_46.avi',\n",
       "        'A bird in a sink keeps getting under the running water from a faucet.'],\n",
       "       ['mv89psg6zh4_33_46.avi', 'A bird is bathing in a sink.'],\n",
       "       ['mv89psg6zh4_33_46.avi',\n",
       "        'A bird is splashing around under a running faucet.'],\n",
       "       ...,\n",
       "       ['m7x8uIdg2XU_67_73.avi',\n",
       "        'The lady added a cream sauce to the pasta.'],\n",
       "       ['m7x8uIdg2XU_67_73.avi', 'women are cooking her kichen'],\n",
       "       ['m7x8uIdg2XU_67_73.avi',\n",
       "        'The woman is pouring cream over the pasta.']], dtype=object)"
      ]
     },
     "execution_count": 112,
     "metadata": {},
     "output_type": "execute_result"
    }
   ],
   "source": [
    "data"
   ]
  },
  {
   "cell_type": "code",
   "execution_count": 117,
   "metadata": {},
   "outputs": [],
   "source": [
    "train = np.load('../../data/train.npy')\n",
    "val = np.load('../../data/val.npy')\n",
    "test = np.load('../../data/test.npy')"
   ]
  },
  {
   "cell_type": "code",
   "execution_count": 3,
   "metadata": {},
   "outputs": [],
   "source": [
    "with open('./runs/lr00002wc8m02wd100_cpv20rand_wp/model_best.pth.tar', 'rb') as f:\n",
    "    data = pickle.load(f)"
   ]
  },
  {
   "cell_type": "code",
   "execution_count": 10,
   "metadata": {},
   "outputs": [],
   "source": [
    "data = torch.load('./runs/lr00002wc8m02wd100_cpv20rand_wp/model_best.pth.tar')"
   ]
  },
  {
   "cell_type": "code",
   "execution_count": 35,
   "metadata": {},
   "outputs": [],
   "source": [
    "model = data['model']\n",
    "opt = data['opt']"
   ]
  },
  {
   "cell_type": "code",
   "execution_count": 41,
   "metadata": {},
   "outputs": [],
   "source": [
    "torch.save(vse.state_dict(), './test.pth.tar')"
   ]
  }
 ],
 "metadata": {
  "kernelspec": {
   "display_name": "Python 3",
   "language": "python",
   "name": "python3"
  },
  "language_info": {
   "codemirror_mode": {
    "name": "ipython",
    "version": 3
   },
   "file_extension": ".py",
   "mimetype": "text/x-python",
   "name": "python",
   "nbconvert_exporter": "python",
   "pygments_lexer": "ipython3",
   "version": "3.6.6"
  }
 },
 "nbformat": 4,
 "nbformat_minor": 2
}
