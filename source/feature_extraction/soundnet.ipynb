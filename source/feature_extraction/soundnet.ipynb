{
 "cells": [
  {
   "cell_type": "code",
   "execution_count": 1,
   "metadata": {
    "collapsed": true
   },
   "outputs": [],
   "source": [
    "import re\n",
    "import os\n",
    "import pickle\n",
    "import subprocess\n",
    "import youtube_dl\n",
    "import multiprocessing\n",
    "import tqdm"
   ]
  },
  {
   "cell_type": "code",
   "execution_count": 7,
   "metadata": {
    "collapsed": true
   },
   "outputs": [],
   "source": [
    "DATA_DIR = '../../data'\n",
    "DATA_NAME = DATA_DIR + '/10vid'\n",
    "DATA_AUDIO = DATA_DIR + '/10vid-audio'\n",
    "#DATA_NAME = DATA_DIR + '/YouTubeClips'\n",
    "#DATA_AUDIO = DATA_DIR + '/YouTubeClips-audio'\n"
   ]
  },
  {
   "cell_type": "markdown",
   "metadata": {},
   "source": [
    "### Extract audio from video"
   ]
  },
  {
   "cell_type": "code",
   "execution_count": 8,
   "metadata": {
    "collapsed": true
   },
   "outputs": [],
   "source": [
    "def check_audio(file_path):\n",
    "    '''Check whether there is audio in the video or not, True if there is audio'''\n",
    "    \n",
    "    cmd =(\"ffprobe -i {0} -show_streams -select_streams a  -loglevel error\".format(file_path))\n",
    "    output = subprocess.check_output(cmd,shell=True)\n",
    "    return (output != b'')"
   ]
  },
  {
   "cell_type": "code",
   "execution_count": 10,
   "metadata": {},
   "outputs": [
    {
     "name": "stdout",
     "output_type": "stream",
     "text": [
      "Starting to process...\n",
      "processing: 100/1970\n",
      "processing: 200/1970\n",
      "processing: 300/1970\n",
      "processing: 400/1970\n",
      "processing: 500/1970\n",
      "processing: 600/1970\n",
      "processing: 700/1970\n",
      "processing: 800/1970\n",
      "processing: 900/1970\n",
      "processing: 1000/1970\n",
      "processing: 1100/1970\n",
      "processing: 1200/1970\n",
      "processing: 1300/1970\n",
      "processing: 1400/1970\n",
      "processing: 1500/1970\n",
      "processing: 1600/1970\n",
      "processing: 1700/1970\n",
      "processing: 1800/1970\n",
      "processing: 1900/1970\n",
      "Finished\n",
      "audio files: 0\n"
     ]
    }
   ],
   "source": [
    "# load video list from video folder\n",
    "video_ids = os.listdir(DATA_NAME)\n",
    "\n",
    "# extract feature for each video which is a batch of frames\n",
    "print(\"Starting to process...\")\n",
    "count = 1\n",
    "audio_count = 0\n",
    "n = len(video_ids)\n",
    "for video_id in video_ids:\n",
    "    video_path = DATA_NAME+'/'+video_id\n",
    "    if os.path.isfile(video_path):\n",
    "        count = count+1\n",
    "        if check_audio(video_path):\n",
    "            audio_path = DATA_AUDIO+'/'+video_id[:-4]+'.wav'\n",
    "            audio_count = audio_count + 1\n",
    "        if (count % 100 == 0):\n",
    "            print(\"processing: {0}/{1}\".format(count,n))\n",
    "            \n",
    "#             cmd = (\"ffmpeg -i {0} -ab 160k -ac 2 -ar 44100 -vn {1}\".format(video_path, audio_path))\n",
    "#             subprocess.call(cmd, shell=True)\n",
    "\n",
    "print(\"Finished\")\n",
    "print(\"audio files: \" + str(audio_count))\n"
   ]
  },
  {
   "cell_type": "code",
   "execution_count": 7,
   "metadata": {},
   "outputs": [
    {
     "data": {
      "text/plain": [
       "1"
      ]
     },
     "execution_count": 7,
     "metadata": {},
     "output_type": "execute_result"
    }
   ],
   "source": [
    "video_id = '_UqnTFs1BLc_23_27.avi'\n",
    "video_path = DATA_NAME+'/'+video_id\n",
    "audio_path = DATA_AUDIO+'/'+video_id[:-4]+'.wav'\n",
    "cmd = (\"ffmpeg -i {0} -ab 160k -ac 2 -ar 44100 -vn {1}\".format(video_path, audio_path))\n",
    "subprocess.call(cmd, shell=True)"
   ]
  },
  {
   "cell_type": "markdown",
   "metadata": {},
   "source": [
    "### Download audio from youtube"
   ]
  },
  {
   "cell_type": "code",
   "execution_count": 9,
   "metadata": {
    "collapsed": true
   },
   "outputs": [],
   "source": [
    "def get_audio(video_file, audio_path=DATA_AUDIO):\n",
    "    # get video info\n",
    "    video_id = re.sub('_\\d*_\\d*\\.avi$', '', video_file)\n",
    "    audio_range = re.search('_(\\d*)_(\\d*)\\.avi$', video_file)\n",
    "    start = audio_range.group(1)\n",
    "    duration = int(audio_range.group(2)) - int(audio_range.group(1)) + 1\n",
    "    \n",
    "    # set output path\n",
    "    OUTPUT_TEMP = '\"' + audio_path + '/%(id)s_' + audio_range.group(1) + '_' + audio_range.group(2) + '.%(ext)s' + '\"'\n",
    "    # construct command\n",
    "    cmd =('youtube-dl -o {0} -x -f m4a --no-continue --postprocessor-args \"-ss {1} -t {2}\" http://youtube.com/watch?v={3}'.format(OUTPUT_TEMP, start, duration, video_id))\n",
    "    \n",
    "    return subprocess.call(cmd,shell=True)"
   ]
  },
  {
   "cell_type": "code",
   "execution_count": 12,
   "metadata": {
    "collapsed": true
   },
   "outputs": [],
   "source": [
    "def process_file(video_file):\n",
    "    video_path = DATA_NAME+'/'+video_file\n",
    "    video_id = re.sub('_\\d*_\\d*\\.avi$', '', video_file)\n",
    "    audio_path = DATA_AUDIO + '/' + video_file[:-4] + '.m4a'\n",
    "    if not os.path.isfile(audio_path):\n",
    "        get_audio(video_file)"
   ]
  },
  {
   "cell_type": "code",
   "execution_count": 13,
   "metadata": {},
   "outputs": [
    {
     "name": "stderr",
     "output_type": "stream",
     "text": [
      "100%|██████████| 11/11 [01:02<00:00,  5.84s/it]\n"
     ]
    }
   ],
   "source": [
    "# load video list from video folder\n",
    "video_files = os.listdir(DATA_NAME)\n",
    "\n",
    "pool = multiprocessing.Pool(multiprocessing.cpu_count())\n",
    "for _ in tqdm.tqdm(pool.imap_unordered(process_file, video_files), total=len(video_files)):\n",
    "    pass\n"
   ]
  },
  {
   "cell_type": "code",
   "execution_count": null,
   "metadata": {
    "collapsed": true
   },
   "outputs": [],
   "source": []
  },
  {
   "cell_type": "code",
   "execution_count": 84,
   "metadata": {},
   "outputs": [
    {
     "name": "stdout",
     "output_type": "stream",
     "text": [
      "Starting to process...\n",
      "processing: 2/10\n",
      "processing: 4/10\n",
      "processing: 6/10\n",
      "processing: 8/10\n",
      "processing: 10/10\n",
      "Finished\n"
     ]
    }
   ],
   "source": [
    "# load video list from video folder\n",
    "video_files = os.listdir(DATA_NAME)\n",
    "\n",
    "print(\"Starting to process...\")\n",
    "count = 0\n",
    "audio_count = 0\n",
    "n = len(video_files)\n",
    "for video_file in video_files:\n",
    "    video_path = DATA_NAME+'/'+video_file\n",
    "    video_id = re.sub('_\\d*_\\d*\\.avi$', '', video_file)\n",
    "    audio_path = DATA_AUDIO + '/' + video_id + '.m4a'\n",
    "    count = count+1\n",
    "    if not os.path.isfile(audio_path):\n",
    "        get_audio(DATA_AUDIO, video_file)\n",
    "        if (count % 2 == 0):\n",
    "            print(\"processing: {0}/{1}\".format(count,n))\n",
    "\n",
    "print(\"Finished\")\n"
   ]
  },
  {
   "cell_type": "code",
   "execution_count": 79,
   "metadata": {},
   "outputs": [
    {
     "data": {
      "text/plain": [
       "0"
      ]
     },
     "execution_count": 79,
     "metadata": {},
     "output_type": "execute_result"
    }
   ],
   "source": [
    "get_audio(DATA_AUDIO, '_UqnTFs1BLc', 10,4)"
   ]
  },
  {
   "cell_type": "code",
   "execution_count": 59,
   "metadata": {},
   "outputs": [
    {
     "data": {
      "text/plain": [
       "'23'"
      ]
     },
     "execution_count": 59,
     "metadata": {},
     "output_type": "execute_result"
    }
   ],
   "source": [
    "video_file = '_UqnTFs1BLc_23_27.avi'\n",
    "audio_range = re.search('_(\\d*)_(\\d*)\\.avi$', video_file)\n",
    "audio_range.group(1)"
   ]
  },
  {
   "cell_type": "code",
   "execution_count": 30,
   "metadata": {},
   "outputs": [
    {
     "data": {
      "text/plain": [
       "0"
      ]
     },
     "execution_count": 30,
     "metadata": {},
     "output_type": "execute_result"
    }
   ],
   "source": [
    "video_id = '_UqnTFs1BLc'\n",
    "OUTPUT_TEMP = '\"' + DATA_AUDIO + '/%(id)s.%(ext)s' + '\"'\n",
    "cmd =('youtube-dl -o {0} -x --no-continue --postprocessor-args \"-ss 00:00:23.00 -t 00:00:04.00\" http://youtube.com/watch?v={1}'.format(OUTPUT_TEMP, video_id))\n",
    "subprocess.call(cmd,shell=True)"
   ]
  },
  {
   "cell_type": "code",
   "execution_count": 21,
   "metadata": {},
   "outputs": [
    {
     "data": {
      "text/plain": [
       "'\"../../data/10vid-audio/%(id)s.%(ext)s\"'"
      ]
     },
     "execution_count": 21,
     "metadata": {},
     "output_type": "execute_result"
    }
   ],
   "source": [
    "OUTPUT_TEMP = '\"' + DATA_AUDIO + '/%(id)s.%(ext)s' + '\"'\n",
    "OUTPUT_TEMP"
   ]
  },
  {
   "cell_type": "code",
   "execution_count": 24,
   "metadata": {},
   "outputs": [
    {
     "data": {
      "text/plain": [
       "'youtube-dl --id -o \"../../data/10vid-audio/%(id)s.%(ext)s\" -x --postprocessor-args \"-ss 00:00:23.00 -t 00:00:04.00\" http://youtube.com/watch?v=_UqnTFs1BLc'"
      ]
     },
     "execution_count": 24,
     "metadata": {},
     "output_type": "execute_result"
    }
   ],
   "source": [
    "('youtube-dl --id -o {0} -x --postprocessor-args \"-ss 00:00:23.00 -t 00:00:04.00\" http://youtube.com/watch?v={1}'.format(OUTPUT_TEMP, video_id))"
   ]
  }
 ],
 "metadata": {
  "kernelspec": {
   "display_name": "Python 3",
   "language": "python",
   "name": "python3"
  },
  "language_info": {
   "codemirror_mode": {
    "name": "ipython",
    "version": 3
   },
   "file_extension": ".py",
   "mimetype": "text/x-python",
   "name": "python",
   "nbconvert_exporter": "python",
   "pygments_lexer": "ipython3",
   "version": "3.6.3"
  }
 },
 "nbformat": 4,
 "nbformat_minor": 2
}
