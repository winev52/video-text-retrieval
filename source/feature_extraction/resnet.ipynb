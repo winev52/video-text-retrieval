{
 "cells": [
  {
   "cell_type": "code",
   "execution_count": 1,
   "metadata": {
    "collapsed": true
   },
   "outputs": [],
   "source": [
    "import torch\n",
    "import torch.nn as nn\n",
    "import torchvision.models as models\n",
    "import torchvision.transforms as transforms\n",
    "from torch.autograd import Variable\n",
    "import numpy as np\n",
    "import cv2\n",
    "import os\n",
    "\n",
    "import pickle"
   ]
  },
  {
   "cell_type": "code",
   "execution_count": 3,
   "metadata": {
    "collapsed": true
   },
   "outputs": [],
   "source": [
    "## data path\n",
    "DATA_DIR = '../../data'\n",
    "DATA_NAME = DATA_DIR + '/10vid'\n",
    "DATA_FEAT = DATA_DIR + '/10vid-feature'\n",
    "VIDEO_CAPS = DATA_DIR + '/msvd_video_caps.pkl'\n",
    "\n",
    "FEAT_DIM = 2048"
   ]
  },
  {
   "cell_type": "code",
   "execution_count": 4,
   "metadata": {
    "collapsed": true
   },
   "outputs": [],
   "source": [
    "def load_caps(caps_path):\n",
    "    # load video id and captions\n",
    "    with open(caps_path, 'rb') as f:\n",
    "        #video_ids, video_caps = pickle.load(f)\n",
    "        rec = pickle.load(f)\n",
    "        video_ids = set(rec[:,0]) # get only video id\n",
    "    return video_ids"
   ]
  },
  {
   "cell_type": "code",
   "execution_count": 5,
   "metadata": {
    "collapsed": true
   },
   "outputs": [],
   "source": [
    "def create_resnet():\n",
    "    # load pretrained model\n",
    "    resnet152 = models.resnet152(pretrained=True)\n",
    "    # remove the last layer\n",
    "    modules=list(resnet152.children())[:-1]\n",
    "    resnet152=nn.Sequential(*modules)\n",
    "    for p in resnet152.parameters():\n",
    "        p.requires_grad = False\n",
    "    return resnet152"
   ]
  },
  {
   "cell_type": "code",
   "execution_count": 15,
   "metadata": {
    "collapsed": true
   },
   "outputs": [],
   "source": [
    "def video2tensor(video_path):\n",
    "    # load avi file\n",
    "    cap = cv2.VideoCapture(video_path)\n",
    "    h_fps = int(cap.get(cv2.CAP_PROP_FPS)/2) # number of frame in 0.5 second\n",
    "    print(h_fps)\n",
    "    ret=True\n",
    "    frames=[]\n",
    "    count = 0\n",
    "    while ret:\n",
    "        ret, frame = cap.read()\n",
    "        if ret==False:\n",
    "            break\n",
    "        if count % h_fps == 0:\n",
    "            rgb_frame = cv2.cvtColor(frame, cv2.COLOR_BGR2RGB)\n",
    "            resize_rgb = cv2.resize(rgb_frame, dsize=(224, 224), interpolation=cv2.INTER_LINEAR)\n",
    "            # normalize to [0,1]\n",
    "            norm_rgb = cv2.normalize(resize_rgb, None, alpha=0, beta=1, norm_type=cv2.NORM_MINMAX, dtype=cv2.CV_32F)\n",
    "            # transform data using (mean=[0.485, 0.456, 0.406], std=[0.229, 0.224, 0.225])]) \n",
    "            frames.append(np.array([(norm_rgb[:,:,0]-0.485)/0.229, (norm_rgb[:,:,1]-0.456)/0.224, (norm_rgb[:,:,2]-0.406)/0.225]))\n",
    "        # frame counter\n",
    "        count = count + 1\n",
    "    \n",
    "    # assign it to a variable\n",
    "    # frames_var = Variable(torch.tensor(frames)) # works with torch 0.4\n",
    "    frames_var = Variable(torch.FloatTensor(np.array(frames).astype(np.float64))) # works with torch 0.3.1\n",
    "    print(len(frames))\n",
    "    return frames_var"
   ]
  },
  {
   "cell_type": "code",
   "execution_count": 7,
   "metadata": {
    "collapsed": true
   },
   "outputs": [],
   "source": [
    "def extract_feature_resnet(resnet152, video_path):\n",
    "    frames_var = video2tensor(video_path)\n",
    "    features_var = resnet152(frames_var) # get the output from the last hidden layer of the pretrained resnet\n",
    "    features = features_var.data # get the tensor out of the variable\n",
    "    return features"
   ]
  },
  {
   "cell_type": "code",
   "execution_count": 17,
   "metadata": {},
   "outputs": [
    {
     "name": "stdout",
     "output_type": "stream",
     "text": [
      "7\n",
      "9\n"
     ]
    }
   ],
   "source": [
    "video_ids = [\"_UqnTFs1BLc_23_27.avi\"]\n",
    "video_path = DATA_NAME+'/'+video_id\n",
    "frames_var = video2tensor(video_path)"
   ]
  },
  {
   "cell_type": "code",
   "execution_count": 8,
   "metadata": {
    "collapsed": true
   },
   "outputs": [],
   "source": [
    "## Main program\n",
    "\n",
    "# load pre-trained model\n",
    "model = create_resnet()\n",
    "\n",
    "# load video id from caption file\n",
    "#video_ids = load_caps(VIDEO_CAPS)\n",
    "video_ids = [\"_UqnTFs1BLc_23_27.avi\"]\n",
    "\n",
    "# extract feature for each video which is a batch of frames\n",
    "for video_id in video_ids:\n",
    "    video_path = DATA_NAME+'/'+video_id\n",
    "    if os.path.isfile(video_path):\n",
    "        feature = extract_feature_resnet(model, video_path)\n",
    "        # mean pooling\n",
    "        feature_mean = torch.mean(feature, dim=0)\n",
    "        np.save(DATA_FEAT+\"/\"+video_id[:-4]+'.npy', feature_mean.numpy().reshape(FEAT_DIM))\n",
    "    "
   ]
  },
  {
   "cell_type": "code",
   "execution_count": 26,
   "metadata": {},
   "outputs": [
    {
     "data": {
      "text/plain": [
       "(60, 2048, 1, 1)"
      ]
     },
     "execution_count": 26,
     "metadata": {},
     "output_type": "execute_result"
    }
   ],
   "source": [
    "feature.numpy().shape"
   ]
  },
  {
   "cell_type": "code",
   "execution_count": 23,
   "metadata": {},
   "outputs": [
    {
     "data": {
      "text/plain": [
       "\n",
       "( 0  ,.,.) = \n",
       "  0.7615\n",
       "\n",
       "( 1  ,.,.) = \n",
       "  0.4713\n",
       "\n",
       "( 2  ,.,.) = \n",
       "  0.7870\n",
       " ... \n",
       "\n",
       "(2045,.,.) = \n",
       "  0.4091\n",
       "\n",
       "(2046,.,.) = \n",
       "  0.3742\n",
       "\n",
       "(2047,.,.) = \n",
       "  0.4015\n",
       "[torch.FloatTensor of size 2048x1x1]"
      ]
     },
     "execution_count": 23,
     "metadata": {},
     "output_type": "execute_result"
    }
   ],
   "source": [
    "feature_mean"
   ]
  },
  {
   "cell_type": "code",
   "execution_count": 34,
   "metadata": {},
   "outputs": [
    {
     "data": {
      "text/plain": [
       "array([0.7615013 , 0.47133332, 0.78696907, ..., 0.4090519 , 0.3741508 ,\n",
       "       0.40154096], dtype=float32)"
      ]
     },
     "execution_count": 34,
     "metadata": {},
     "output_type": "execute_result"
    }
   ],
   "source": [
    "torch.mean(feature, dim=0).data.numpy().reshape(2048)\n"
   ]
  },
  {
   "cell_type": "code",
   "execution_count": 10,
   "metadata": {},
   "outputs": [
    {
     "data": {
      "text/plain": [
       "60"
      ]
     },
     "execution_count": 10,
     "metadata": {},
     "output_type": "execute_result"
    }
   ],
   "source": [
    "count"
   ]
  },
  {
   "cell_type": "code",
   "execution_count": 11,
   "metadata": {},
   "outputs": [
    {
     "data": {
      "text/plain": [
       "(60, 3, 224, 224)"
      ]
     },
     "execution_count": 11,
     "metadata": {},
     "output_type": "execute_result"
    }
   ],
   "source": [
    "np.array(frames).shape"
   ]
  },
  {
   "cell_type": "code",
   "execution_count": 12,
   "metadata": {
    "collapsed": true
   },
   "outputs": [],
   "source": [
    "img = torch.Tensor(1,3, 224, 224).normal_() # random image"
   ]
  },
  {
   "cell_type": "code",
   "execution_count": 18,
   "metadata": {},
   "outputs": [
    {
     "data": {
      "text/plain": [
       "torch.Size([1, 3, 224, 224])"
      ]
     },
     "execution_count": 18,
     "metadata": {},
     "output_type": "execute_result"
    }
   ],
   "source": [
    "img.shape"
   ]
  },
  {
   "cell_type": "code",
   "execution_count": 15,
   "metadata": {
    "collapsed": true
   },
   "outputs": [],
   "source": [
    "img2 = torch.tensor(frames)"
   ]
  },
  {
   "cell_type": "code",
   "execution_count": 17,
   "metadata": {},
   "outputs": [
    {
     "data": {
      "text/plain": [
       "torch.Size([60, 3, 224, 224])"
      ]
     },
     "execution_count": 17,
     "metadata": {},
     "output_type": "execute_result"
    }
   ],
   "source": [
    "img2.shape"
   ]
  },
  {
   "cell_type": "code",
   "execution_count": 12,
   "metadata": {},
   "outputs": [
    {
     "data": {
      "text/plain": [
       "array([[[ 0,  1,  2,  3],\n",
       "        [ 4,  5,  6,  7],\n",
       "        [ 8,  9, 10, 11]],\n",
       "\n",
       "       [[12, 13, 14, 15],\n",
       "        [16, 17, 18, 19],\n",
       "        [20, 21, 22, 23]]])"
      ]
     },
     "execution_count": 12,
     "metadata": {},
     "output_type": "execute_result"
    }
   ],
   "source": [
    "a=np.arange(2*3*4).reshape(2,3,4)\n",
    "a"
   ]
  },
  {
   "cell_type": "code",
   "execution_count": 13,
   "metadata": {},
   "outputs": [
    {
     "data": {
      "text/plain": [
       "array([[[ 0,  1,  2,  3],\n",
       "        [ 4,  5,  6,  7]],\n",
       "\n",
       "       [[ 8,  9, 10, 11],\n",
       "        [12, 13, 14, 15]],\n",
       "\n",
       "       [[16, 17, 18, 19],\n",
       "        [20, 21, 22, 23]]])"
      ]
     },
     "execution_count": 13,
     "metadata": {},
     "output_type": "execute_result"
    }
   ],
   "source": [
    "a.reshape(3,2,4)"
   ]
  }
 ],
 "metadata": {
  "kernelspec": {
   "display_name": "Python 3",
   "language": "python",
   "name": "python3"
  },
  "language_info": {
   "codemirror_mode": {
    "name": "ipython",
    "version": 3
   },
   "file_extension": ".py",
   "mimetype": "text/x-python",
   "name": "python",
   "nbconvert_exporter": "python",
   "pygments_lexer": "ipython3",
   "version": "3.6.3"
  }
 },
 "nbformat": 4,
 "nbformat_minor": 2
}
