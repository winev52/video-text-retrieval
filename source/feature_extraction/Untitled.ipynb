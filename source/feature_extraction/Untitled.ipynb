{
 "cells": [
  {
   "cell_type": "code",
   "execution_count": 2,
   "metadata": {
    "collapsed": true
   },
   "outputs": [],
   "source": [
    "import torch\n",
    "import torch.nn as nn\n",
    "import torchvision.models as models\n",
    "from torch.autograd import Variable\n",
    "\n",
    "import pickle"
   ]
  },
  {
   "cell_type": "code",
   "execution_count": 3,
   "metadata": {
    "collapsed": true
   },
   "outputs": [],
   "source": [
    "## data path\n",
    "DATA_DIR = '../../data'\n",
    "DATA_NAME = DATA_DIR + '/10vid'\n",
    "VIDEO_CAPS = DATA_DIR + '/msvd_video_caps.pkl'"
   ]
  },
  {
   "cell_type": "code",
   "execution_count": null,
   "metadata": {
    "collapsed": true
   },
   "outputs": [],
   "source": [
    "# load video id \n",
    "# video_id_list = ...\n",
    "\n",
    "# create models\n",
    "# resnet = ...\n",
    "# res\n",
    "\n",
    "# for id in video_list:\n",
    "#   np_video = load_video(id)\n",
    "#   extract_feature_resnet(model, np_video)\n",
    "#   extract_feature_soundnet(np_video)\n"
   ]
  },
  {
   "cell_type": "code",
   "execution_count": 11,
   "metadata": {},
   "outputs": [],
   "source": [
    "# load video id and captions\n",
    "with open(VIDEO_CAPS, 'rb') as f:\n",
    "    #video_ids, video_caps = pickle.load(f)\n",
    "    rec = pickle.load(f)\n",
    "    video_ids = set(rec[:,0]) # get only video id\n",
    "    "
   ]
  },
  {
   "cell_type": "code",
   "execution_count": 12,
   "metadata": {},
   "outputs": [
    {
     "data": {
      "text/plain": [
       "2089"
      ]
     },
     "execution_count": 12,
     "metadata": {},
     "output_type": "execute_result"
    }
   ],
   "source": [
    "len(video_ids)"
   ]
  },
  {
   "cell_type": "code",
   "execution_count": 13,
   "metadata": {
    "collapsed": true
   },
   "outputs": [],
   "source": [
    "# load pretrained model\n",
    "resnet152 = models.resnet152(pretrained=True)\n",
    "# remove the last layer\n",
    "modules=list(resnet152.children())[:-1]\n",
    "resnet152=nn.Sequential(*modules)\n",
    "for p in resnet152.parameters():\n",
    "    p.requires_grad = False\n"
   ]
  },
  {
   "cell_type": "code",
   "execution_count": null,
   "metadata": {
    "collapsed": true
   },
   "outputs": [],
   "source": [
    "def video2tensor(video_id):\n",
    "    # load avi file\n",
    "    \n",
    "    # create tensor\n",
    "    img = torch.Tensor(1,3, 224, 224).normal_() # random image\n",
    "    img_var = Variable(img) # assign it to a variable\n",
    "    return img_var"
   ]
  },
  {
   "cell_type": "code",
   "execution_count": null,
   "metadata": {
    "collapsed": true
   },
   "outputs": [],
   "source": [
    "def extract_feature_resnet(resnet152, video_id):\n",
    "    video2tensor(video_id)\n",
    "    features_var = resnet152(img_var) # get the output from the last hidden layer of the pretrained resnet\n",
    "    features = features_var.data # get the tensor out of the variable\n",
    "    # return mean pooling"
   ]
  },
  {
   "cell_type": "code",
   "execution_count": 3,
   "metadata": {
    "collapsed": true
   },
   "outputs": [],
   "source": []
  },
  {
   "cell_type": "code",
   "execution_count": 4,
   "metadata": {
    "collapsed": true
   },
   "outputs": [],
   "source": []
  },
  {
   "cell_type": "code",
   "execution_count": 13,
   "metadata": {
    "collapsed": true
   },
   "outputs": [],
   "source": [
    "#print(list(resnet152.children())[:-1])"
   ]
  },
  {
   "cell_type": "code",
   "execution_count": 8,
   "metadata": {
    "collapsed": true
   },
   "outputs": [],
   "source": []
  },
  {
   "cell_type": "code",
   "execution_count": 9,
   "metadata": {},
   "outputs": [
    {
     "data": {
      "text/plain": [
       "torch.Size([1, 2048, 1, 1])"
      ]
     },
     "execution_count": 9,
     "metadata": {},
     "output_type": "execute_result"
    }
   ],
   "source": [
    "features.shape"
   ]
  }
 ],
 "metadata": {
  "kernelspec": {
   "display_name": "Python 3",
   "language": "python",
   "name": "python3"
  },
  "language_info": {
   "codemirror_mode": {
    "name": "ipython",
    "version": 3
   },
   "file_extension": ".py",
   "mimetype": "text/x-python",
   "name": "python",
   "nbconvert_exporter": "python",
   "pygments_lexer": "ipython3",
   "version": "3.6.3"
  }
 },
 "nbformat": 4,
 "nbformat_minor": 2
}
